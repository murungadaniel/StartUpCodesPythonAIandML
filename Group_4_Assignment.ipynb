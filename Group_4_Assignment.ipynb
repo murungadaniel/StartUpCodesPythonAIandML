{
 "cells": [
  {
   "cell_type": "markdown",
   "id": "859317dd-91fb-4acc-af8f-fe1c8c930eb5",
   "metadata": {},
   "source": [
    "# Import basic library"
   ]
  },
  {
   "cell_type": "code",
   "execution_count": 3,
   "id": "b5cac3f5-c542-409f-b990-70f1ec3d37a2",
   "metadata": {},
   "outputs": [],
   "source": [
    "import pandas as pd\n",
    "import numpy as np\n",
    "from matplotlib import pyplot as plt"
   ]
  },
  {
   "cell_type": "markdown",
   "id": "5d0d14e2-a9c0-45de-a0f8-69cd876f0a00",
   "metadata": {},
   "source": [
    "# Import Machine Learning Library"
   ]
  },
  {
   "cell_type": "code",
   "execution_count": 4,
   "id": "10853daf-8bce-40d6-9d71-723ef862a510",
   "metadata": {},
   "outputs": [],
   "source": [
    "from sklearn.model_selection import train_test_split"
   ]
  },
  {
   "cell_type": "code",
   "execution_count": null,
   "id": "53f8fa5d-b43e-4503-be1e-639c69a46469",
   "metadata": {},
   "outputs": [],
   "source": [
    "#loading the dataset\n",
    "HealthStrokeDataset = pd.read_csv('healthcare-dataset-stroke-dataa.')"
   ]
  }
 ],
 "metadata": {
  "kernelspec": {
   "display_name": "Python 3 (ipykernel)",
   "language": "python",
   "name": "python3"
  },
  "language_info": {
   "codemirror_mode": {
    "name": "ipython",
    "version": 3
   },
   "file_extension": ".py",
   "mimetype": "text/x-python",
   "name": "python",
   "nbconvert_exporter": "python",
   "pygments_lexer": "ipython3",
   "version": "3.12.3"
  }
 },
 "nbformat": 4,
 "nbformat_minor": 5
}
